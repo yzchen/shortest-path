{
 "cells": [
  {
   "cell_type": "markdown",
   "metadata": {},
   "source": [
    "Read output.csv file"
   ]
  },
  {
   "cell_type": "code",
   "execution_count": 10,
   "metadata": {},
   "outputs": [],
   "source": [
    "import os\n",
    "import numpy as np\n",
    "import pandas as pd\n",
    "import matplotlib.pyplot as plt\n",
    "\n",
    "%matplotlib inline\n",
    "import seaborn as sns"
   ]
  },
  {
   "cell_type": "code",
   "execution_count": 4,
   "metadata": {},
   "outputs": [],
   "source": [
    "data_path = \"./output.csv\""
   ]
  },
  {
   "cell_type": "code",
   "execution_count": 6,
   "metadata": {},
   "outputs": [],
   "source": [
    "data = pd.read_csv(data_path)"
   ]
  },
  {
   "cell_type": "code",
   "execution_count": 8,
   "metadata": {},
   "outputs": [
    {
     "data": {
      "text/html": [
       "<div>\n",
       "<style>\n",
       "    .dataframe thead tr:only-child th {\n",
       "        text-align: right;\n",
       "    }\n",
       "\n",
       "    .dataframe thead th {\n",
       "        text-align: left;\n",
       "    }\n",
       "\n",
       "    .dataframe tbody tr th {\n",
       "        vertical-align: top;\n",
       "    }\n",
       "</style>\n",
       "<table border=\"1\" class=\"dataframe\">\n",
       "  <thead>\n",
       "    <tr style=\"text-align: right;\">\n",
       "      <th></th>\n",
       "      <th>fileName</th>\n",
       "      <th>nNodes</th>\n",
       "      <th>nEdges</th>\n",
       "      <th>DijkstraArray(s)</th>\n",
       "      <th>DijkstraHeap(s)</th>\n",
       "      <th>Spfa(s)</th>\n",
       "    </tr>\n",
       "  </thead>\n",
       "  <tbody>\n",
       "    <tr>\n",
       "      <th>12</th>\n",
       "      <td>data/test1000-10.txt</td>\n",
       "      <td>1000</td>\n",
       "      <td>10000</td>\n",
       "      <td>0.001555</td>\n",
       "      <td>0.000425</td>\n",
       "      <td>0.000831</td>\n",
       "    </tr>\n",
       "    <tr>\n",
       "      <th>107</th>\n",
       "      <td>data/test900-8.txt</td>\n",
       "      <td>900</td>\n",
       "      <td>9000</td>\n",
       "      <td>0.001586</td>\n",
       "      <td>0.000384</td>\n",
       "      <td>0.000579</td>\n",
       "    </tr>\n",
       "    <tr>\n",
       "      <th>60</th>\n",
       "      <td>data/test500-5.txt</td>\n",
       "      <td>500</td>\n",
       "      <td>5000</td>\n",
       "      <td>0.000454</td>\n",
       "      <td>0.000247</td>\n",
       "      <td>0.000277</td>\n",
       "    </tr>\n",
       "    <tr>\n",
       "      <th>50</th>\n",
       "      <td>data/test400-6.txt</td>\n",
       "      <td>400</td>\n",
       "      <td>4000</td>\n",
       "      <td>0.000345</td>\n",
       "      <td>0.000174</td>\n",
       "      <td>0.000162</td>\n",
       "    </tr>\n",
       "    <tr>\n",
       "      <th>30</th>\n",
       "      <td>data/test200-8.txt</td>\n",
       "      <td>200</td>\n",
       "      <td>2000</td>\n",
       "      <td>0.000108</td>\n",
       "      <td>0.000086</td>\n",
       "      <td>0.000108</td>\n",
       "    </tr>\n",
       "    <tr>\n",
       "      <th>90</th>\n",
       "      <td>data/test800-2.txt</td>\n",
       "      <td>800</td>\n",
       "      <td>8000</td>\n",
       "      <td>0.000987</td>\n",
       "      <td>0.000384</td>\n",
       "      <td>0.000447</td>\n",
       "    </tr>\n",
       "    <tr>\n",
       "      <th>15</th>\n",
       "      <td>data/test1000-4.txt</td>\n",
       "      <td>1000</td>\n",
       "      <td>10000</td>\n",
       "      <td>0.001880</td>\n",
       "      <td>0.000437</td>\n",
       "      <td>0.000616</td>\n",
       "    </tr>\n",
       "    <tr>\n",
       "      <th>43</th>\n",
       "      <td>data/test4.txt</td>\n",
       "      <td>400</td>\n",
       "      <td>4000</td>\n",
       "      <td>0.000367</td>\n",
       "      <td>0.000198</td>\n",
       "      <td>0.000158</td>\n",
       "    </tr>\n",
       "    <tr>\n",
       "      <th>18</th>\n",
       "      <td>data/test1000-7.txt</td>\n",
       "      <td>1000</td>\n",
       "      <td>10000</td>\n",
       "      <td>0.001708</td>\n",
       "      <td>0.000575</td>\n",
       "      <td>0.000533</td>\n",
       "    </tr>\n",
       "    <tr>\n",
       "      <th>16</th>\n",
       "      <td>data/test1000-5.txt</td>\n",
       "      <td>1000</td>\n",
       "      <td>10000</td>\n",
       "      <td>0.001836</td>\n",
       "      <td>0.000494</td>\n",
       "      <td>0.000583</td>\n",
       "    </tr>\n",
       "  </tbody>\n",
       "</table>\n",
       "</div>"
      ],
      "text/plain": [
       "                 fileName  nNodes  nEdges  DijkstraArray(s)  DijkstraHeap(s)  \\\n",
       "12   data/test1000-10.txt    1000   10000          0.001555         0.000425   \n",
       "107    data/test900-8.txt     900    9000          0.001586         0.000384   \n",
       "60     data/test500-5.txt     500    5000          0.000454         0.000247   \n",
       "50     data/test400-6.txt     400    4000          0.000345         0.000174   \n",
       "30     data/test200-8.txt     200    2000          0.000108         0.000086   \n",
       "90     data/test800-2.txt     800    8000          0.000987         0.000384   \n",
       "15    data/test1000-4.txt    1000   10000          0.001880         0.000437   \n",
       "43         data/test4.txt     400    4000          0.000367         0.000198   \n",
       "18    data/test1000-7.txt    1000   10000          0.001708         0.000575   \n",
       "16    data/test1000-5.txt    1000   10000          0.001836         0.000494   \n",
       "\n",
       "      Spfa(s)  \n",
       "12   0.000831  \n",
       "107  0.000579  \n",
       "60   0.000277  \n",
       "50   0.000162  \n",
       "30   0.000108  \n",
       "90   0.000447  \n",
       "15   0.000616  \n",
       "43   0.000158  \n",
       "18   0.000533  \n",
       "16   0.000583  "
      ]
     },
     "execution_count": 8,
     "metadata": {},
     "output_type": "execute_result"
    }
   ],
   "source": [
    "data.sample(frac=1).head(10)"
   ]
  },
  {
   "cell_type": "code",
   "execution_count": 9,
   "metadata": {},
   "outputs": [
    {
     "name": "stdout",
     "output_type": "stream",
     "text": [
      "<class 'pandas.core.frame.DataFrame'>\n",
      "RangeIndex: 109 entries, 0 to 108\n",
      "Data columns (total 6 columns):\n",
      "fileName            109 non-null object\n",
      "nNodes              109 non-null int64\n",
      "nEdges              109 non-null int64\n",
      "DijkstraArray(s)    109 non-null float64\n",
      "DijkstraHeap(s)     109 non-null float64\n",
      "Spfa(s)             109 non-null float64\n",
      "dtypes: float64(3), int64(2), object(1)\n",
      "memory usage: 5.2+ KB\n"
     ]
    }
   ],
   "source": [
    "data.info()"
   ]
  },
  {
   "cell_type": "markdown",
   "metadata": {},
   "source": [
    "Data analysis"
   ]
  },
  {
   "cell_type": "code",
   "execution_count": 22,
   "metadata": {},
   "outputs": [],
   "source": [
    "mean_time = data.groupby(['nNodes']).mean()"
   ]
  },
  {
   "cell_type": "code",
   "execution_count": 25,
   "metadata": {},
   "outputs": [
    {
     "data": {
      "text/plain": [
       "pandas.core.frame.DataFrame"
      ]
     },
     "execution_count": 25,
     "metadata": {},
     "output_type": "execute_result"
    }
   ],
   "source": [
    "type(mean_time)"
   ]
  },
  {
   "cell_type": "code",
   "execution_count": 34,
   "metadata": {},
   "outputs": [
    {
     "data": {
      "text/html": [
       "<div>\n",
       "<style>\n",
       "    .dataframe thead tr:only-child th {\n",
       "        text-align: right;\n",
       "    }\n",
       "\n",
       "    .dataframe thead th {\n",
       "        text-align: left;\n",
       "    }\n",
       "\n",
       "    .dataframe tbody tr th {\n",
       "        vertical-align: top;\n",
       "    }\n",
       "</style>\n",
       "<table border=\"1\" class=\"dataframe\">\n",
       "  <thead>\n",
       "    <tr style=\"text-align: right;\">\n",
       "      <th></th>\n",
       "      <th>DijkstraArray(s)</th>\n",
       "      <th>DijkstraHeap(s)</th>\n",
       "      <th>Spfa(s)</th>\n",
       "    </tr>\n",
       "    <tr>\n",
       "      <th>nNodes</th>\n",
       "      <th></th>\n",
       "      <th></th>\n",
       "      <th></th>\n",
       "    </tr>\n",
       "  </thead>\n",
       "  <tbody>\n",
       "    <tr>\n",
       "      <th>100</th>\n",
       "      <td>0.000055</td>\n",
       "      <td>0.000043</td>\n",
       "      <td>0.000046</td>\n",
       "    </tr>\n",
       "    <tr>\n",
       "      <th>200</th>\n",
       "      <td>0.000120</td>\n",
       "      <td>0.000092</td>\n",
       "      <td>0.000112</td>\n",
       "    </tr>\n",
       "    <tr>\n",
       "      <th>300</th>\n",
       "      <td>0.000209</td>\n",
       "      <td>0.000146</td>\n",
       "      <td>0.000174</td>\n",
       "    </tr>\n",
       "    <tr>\n",
       "      <th>400</th>\n",
       "      <td>0.000358</td>\n",
       "      <td>0.000201</td>\n",
       "      <td>0.000183</td>\n",
       "    </tr>\n",
       "    <tr>\n",
       "      <th>500</th>\n",
       "      <td>0.000549</td>\n",
       "      <td>0.000256</td>\n",
       "      <td>0.000323</td>\n",
       "    </tr>\n",
       "    <tr>\n",
       "      <th>600</th>\n",
       "      <td>0.000653</td>\n",
       "      <td>0.000322</td>\n",
       "      <td>0.000391</td>\n",
       "    </tr>\n",
       "    <tr>\n",
       "      <th>700</th>\n",
       "      <td>0.000812</td>\n",
       "      <td>0.000382</td>\n",
       "      <td>0.000392</td>\n",
       "    </tr>\n",
       "    <tr>\n",
       "      <th>800</th>\n",
       "      <td>0.001205</td>\n",
       "      <td>0.000443</td>\n",
       "      <td>0.000489</td>\n",
       "    </tr>\n",
       "    <tr>\n",
       "      <th>900</th>\n",
       "      <td>0.001565</td>\n",
       "      <td>0.000513</td>\n",
       "      <td>0.000592</td>\n",
       "    </tr>\n",
       "    <tr>\n",
       "      <th>1000</th>\n",
       "      <td>0.001766</td>\n",
       "      <td>0.000573</td>\n",
       "      <td>0.000638</td>\n",
       "    </tr>\n",
       "  </tbody>\n",
       "</table>\n",
       "</div>"
      ],
      "text/plain": [
       "        DijkstraArray(s)  DijkstraHeap(s)   Spfa(s)\n",
       "nNodes                                             \n",
       "100             0.000055         0.000043  0.000046\n",
       "200             0.000120         0.000092  0.000112\n",
       "300             0.000209         0.000146  0.000174\n",
       "400             0.000358         0.000201  0.000183\n",
       "500             0.000549         0.000256  0.000323\n",
       "600             0.000653         0.000322  0.000391\n",
       "700             0.000812         0.000382  0.000392\n",
       "800             0.001205         0.000443  0.000489\n",
       "900             0.001565         0.000513  0.000592\n",
       "1000            0.001766         0.000573  0.000638"
      ]
     },
     "execution_count": 34,
     "metadata": {},
     "output_type": "execute_result"
    }
   ],
   "source": [
    "mean_time.drop('nEdges', axis=1, inplace=True)\n",
    "mean_time"
   ]
  },
  {
   "cell_type": "code",
   "execution_count": 37,
   "metadata": {},
   "outputs": [
    {
     "data": {
      "text/plain": [
       "[<matplotlib.lines.Line2D at 0x10ee646a0>,\n",
       " <matplotlib.lines.Line2D at 0x10ee64860>,\n",
       " <matplotlib.lines.Line2D at 0x10ee64a58>]"
      ]
     },
     "execution_count": 37,
     "metadata": {},
     "output_type": "execute_result"
    },
    {
     "data": {
      "image/png": "[encoded data removed]",
      "text/plain": [
       "<matplotlib.figure.Figure at 0x10ea560b8>"
      ]
     },
     "metadata": {},
     "output_type": "display_data"
    }
   ],
   "source": [
    "plt.subplots(1,1,figsize=(15,10)) \n",
    "plt.plot(mean_time)"
   ]
  },
  {
   "cell_type": "code",
   "execution_count": null,
   "metadata": {},
   "outputs": [],
   "source": []
  }
 ],
 "metadata": {
  "kernelspec": {
   "display_name": "Python 3",
   "language": "python",
   "name": "python3"
  },
  "language_info": {
   "codemirror_mode": {
    "name": "ipython",
    "version": 3
   },
   "file_extension": ".py",
   "mimetype": "text/x-python",
   "name": "python",
   "nbconvert_exporter": "python",
   "pygments_lexer": "ipython3",
   "version": "3.6.3"
  }
 },
 "nbformat": 4,
 "nbformat_minor": 2
}
